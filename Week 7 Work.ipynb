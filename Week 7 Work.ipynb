{
 "cells": [
  {
   "cell_type": "markdown",
   "id": "33a62bbc",
   "metadata": {},
   "source": [
    "# Week 7 Work\n",
    "\n",
    "Algorithm Work: Questions 1 & 2"
   ]
  },
  {
   "cell_type": "markdown",
   "id": "ca99482f",
   "metadata": {},
   "source": [
    "\"Write a statement that creates a list with the following strings: 'Einstein', 'Newton', 'Copernicus', and 'Kepler'\""
   ]
  },
  {
   "cell_type": "markdown",
   "id": "215da548",
   "metadata": {},
   "source": [
    "Considering this is a list of scientists, that is what I am going to label this group."
   ]
  },
  {
   "cell_type": "code",
   "execution_count": 2,
   "id": "86f79d76",
   "metadata": {},
   "outputs": [],
   "source": [
    "scientists = ['Einstein', 'Newton', 'Copernicus', 'Kepler']"
   ]
  },
  {
   "cell_type": "markdown",
   "id": "f31a65a9",
   "metadata": {},
   "source": [
    "\"Assume names references a list. Write a  loop that displays each element of the list.\""
   ]
  },
  {
   "cell_type": "markdown",
   "id": "5aa0ebd0",
   "metadata": {},
   "source": [
    "I am assuming to loop this previous code, I have to use the \"for\" and \"in\" functions."
   ]
  },
  {
   "cell_type": "code",
   "execution_count": 6,
   "id": "dcf9918b",
   "metadata": {},
   "outputs": [
    {
     "name": "stdout",
     "output_type": "stream",
     "text": [
      "Einstein\n",
      "Newton\n",
      "Copernicus\n",
      "Kepler\n"
     ]
    }
   ],
   "source": [
    "scientists = ['Einstein', 'Newton', 'Copernicus', 'Kepler']\n",
    "for scientist in scientists:\n",
    "    print(scientist)\n"
   ]
  },
  {
   "cell_type": "markdown",
   "id": "f2849982",
   "metadata": {},
   "source": [
    "Programming Exercises"
   ]
  },
  {
   "cell_type": "markdown",
   "id": "b4ccd962",
   "metadata": {},
   "source": [
    "\"Design a program that asks the user to enter a store’s sales for each day of the week. The amounts should be stored in a list. Use a loop to calculate the total sales for the week and display the result.\""
   ]
  },
  {
   "cell_type": "markdown",
   "id": "fe5c42aa",
   "metadata": {},
   "source": [
    "Simillar to the last problem, I will have to utilize a \"for\" and \"in\" function again, at the moment I am struggling with where that will go in the code. I know I have to start with defining the program, and start creating a list. I will mess around and see if I end up putting it in the correct order."
   ]
  },
  {
   "cell_type": "code",
   "execution_count": 8,
   "id": "df49e16c",
   "metadata": {},
   "outputs": [],
   "source": [
    "def main():\n",
    "    sales = []\n",
    "    for day in ['Monday', 'Tuesday', 'Wednesday', 'Thursday','Friday','Saturday','Sunday']:\n",
    "        sales_input = float(input(f\"Enter sales for the {day}: $\"))\n",
    "        sales.apend(sales_input)\n",
    "        \n",
    "    total_sales = 0\n",
    "    for sale in sales:\n",
    "        total_sales += sale\n",
    "        \n",
    "    print(f\"\\nTotal sales for the week: ${total_sales: .2f}\")\n",
    "    \n",
    "    if __name__ == \"__main__\":\n",
    "        main()"
   ]
  },
  {
   "cell_type": "markdown",
   "id": "e1aeb34b",
   "metadata": {},
   "source": [
    "After checking over this chapters work and slowly entering the code, this is what I have come up with. However, I can not get it to run. I am going to check ChatGPT to see where I have gone wrong. "
   ]
  },
  {
   "cell_type": "code",
   "execution_count": 9,
   "id": "53df22b3",
   "metadata": {},
   "outputs": [
    {
     "name": "stdout",
     "output_type": "stream",
     "text": [
      "Enter sales for Monday: $30\n",
      "Enter sales for Tuesday: $40\n",
      "Enter sales for Wednesday: $50\n",
      "Enter sales for Thursday: $60\n",
      "Enter sales for Friday: $70\n",
      "Enter sales for Saturday: $80\n",
      "Enter sales for Sunday: $90\n",
      "\n",
      "Total sales for the week: $420.00\n"
     ]
    }
   ],
   "source": [
    "def main():\n",
    "   \n",
    "    sales = []\n",
    "\n",
    "    \n",
    "    for day in ['Monday', 'Tuesday', 'Wednesday', 'Thursday', 'Friday', 'Saturday', 'Sunday']:\n",
    "        sales_input = float(input(f\"Enter sales for {day}: $\"))\n",
    "        sales.append(sales_input)\n",
    "\n",
    "    \n",
    "    total_sales = 0\n",
    "    for sale in sales:\n",
    "        total_sales += sale\n",
    "\n",
    "   \n",
    "    print(f\"\\nTotal sales for the week: ${total_sales:.2f}\")\n",
    "\n",
    "if __name__ == \"__main__\":\n",
    "    main()\n"
   ]
  },
  {
   "cell_type": "markdown",
   "id": "7b766fe8",
   "metadata": {},
   "source": [
    "After comparing the code I wrote to the one I got from ChatGPT, I am happy that the only errors I made were spacing out the code incorrectly. This is a small error that I keep facing, but am trying to fix."
   ]
  },
  {
   "cell_type": "markdown",
   "id": "26aa6730",
   "metadata": {},
   "source": [
    "\"Create a text file that contains your expenses for last month in the following categories:\n",
    "Rent,\n",
    "Gas,\n",
    "Food,\n",
    "Clothing,\n",
    "Car payment,\n",
    "Misc\n",
    "\n",
    "Write a Python program that reads the data from the file and uses  to plot a pie chart showing how you spend your money.\""
   ]
  },
  {
   "cell_type": "markdown",
   "id": "c39d610a",
   "metadata": {},
   "source": [
    "intially after reading this question, I was a little stumped on where to begin. I am going over our textbook, seeing if that can begin to lead me in the right direction. I am unsure how to correctly input a seperate jupyter file into another. I am going to start writing that code, possibly with help from ChatGPT. "
   ]
  },
  {
   "cell_type": "markdown",
   "id": "54ebb4c3",
   "metadata": {},
   "source": [
    "I believe I have correctly created my \"expenses.txt\" code necessary for this next step."
   ]
  },
  {
   "cell_type": "code",
   "execution_count": 14,
   "id": "39bc06ce",
   "metadata": {},
   "outputs": [
    {
     "ename": "ValueError",
     "evalue": "could not convert string to float: '{'",
     "output_type": "error",
     "traceback": [
      "\u001b[1;31m---------------------------------------------------------------------------\u001b[0m",
      "\u001b[1;31mValueError\u001b[0m                                Traceback (most recent call last)",
      "Cell \u001b[1;32mIn[14], line 33\u001b[0m\n\u001b[0;32m     30\u001b[0m     plot_pie_chart(categories, expenses)\n\u001b[0;32m     32\u001b[0m \u001b[38;5;28;01mif\u001b[39;00m \u001b[38;5;18m__name__\u001b[39m \u001b[38;5;241m==\u001b[39m \u001b[38;5;124m\"\u001b[39m\u001b[38;5;124m__main__\u001b[39m\u001b[38;5;124m\"\u001b[39m:\n\u001b[1;32m---> 33\u001b[0m     main()\n",
      "Cell \u001b[1;32mIn[14], line 29\u001b[0m, in \u001b[0;36mmain\u001b[1;34m()\u001b[0m\n\u001b[0;32m     27\u001b[0m \u001b[38;5;28;01mdef\u001b[39;00m \u001b[38;5;21mmain\u001b[39m():\n\u001b[0;32m     28\u001b[0m     filename \u001b[38;5;241m=\u001b[39m \u001b[38;5;124m'\u001b[39m\u001b[38;5;124mexpenses.txt\u001b[39m\u001b[38;5;124m'\u001b[39m\n\u001b[1;32m---> 29\u001b[0m     categories, expenses \u001b[38;5;241m=\u001b[39m read_expenses(filename)\n\u001b[0;32m     30\u001b[0m     plot_pie_chart(categories, expenses)\n",
      "Cell \u001b[1;32mIn[14], line 16\u001b[0m, in \u001b[0;36mread_expenses\u001b[1;34m(filename)\u001b[0m\n\u001b[0;32m     14\u001b[0m         amount \u001b[38;5;241m=\u001b[39m parts[\u001b[38;5;241m-\u001b[39m\u001b[38;5;241m1\u001b[39m]\n\u001b[0;32m     15\u001b[0m         categories\u001b[38;5;241m.\u001b[39mappend(category)\n\u001b[1;32m---> 16\u001b[0m         expenses\u001b[38;5;241m.\u001b[39mappend(\u001b[38;5;28mfloat\u001b[39m(amount))\n\u001b[0;32m     18\u001b[0m \u001b[38;5;28;01mreturn\u001b[39;00m categories, expenses\n",
      "\u001b[1;31mValueError\u001b[0m: could not convert string to float: '{'"
     ]
    }
   ],
   "source": [
    "import matplotlib.pyplot as plt\n",
    "\n",
    "def read_expenses(filename):\n",
    "    categories = []\n",
    "    expenses = []\n",
    "\n",
    "    with open(filename, 'r') as file:\n",
    "        for line in file:\n",
    "            # Split the line by space\n",
    "            parts = line.strip().split()\n",
    "            # The category is all parts except the last one\n",
    "            category = ' '.join(parts[:-1])\n",
    "            # The expense amount is the last part\n",
    "            amount = parts[-1]\n",
    "            categories.append(category)\n",
    "            expenses.append(float(amount))\n",
    "\n",
    "    return categories, expenses\n",
    "\n",
    "def plot_pie_chart(categories, expenses):\n",
    "    plt.figure(figsize=(8, 6))\n",
    "    plt.pie(expenses, labels=categories, autopct='%1.1f%%', startangle=140)\n",
    "    plt.axis('equal')\n",
    "    plt.title('Expenses for Last Month')\n",
    "    plt.show()\n",
    "\n",
    "def main():\n",
    "    filename = 'expenses.txt'\n",
    "    categories, expenses = read_expenses(filename)\n",
    "    plot_pie_chart(categories, expenses)\n",
    "\n",
    "if __name__ == \"__main__\":\n",
    "    main()\n"
   ]
  },
  {
   "cell_type": "markdown",
   "id": "46c8c588",
   "metadata": {},
   "source": [
    "With ChatGPT walking me through each line of this code, I am unsure why I am getting this error message. I am trying to understand each part, and what I am missing. I was really struggling on what to start with, so I did have to check ChatGPT for guidance. I think my issues is my \"expenses.txt\" file."
   ]
  },
  {
   "cell_type": "markdown",
   "id": "964f87f8",
   "metadata": {},
   "source": [
    "I have been browsing ChatGPT, YouTube, and even Reddit for help on this problem I am having. I am still not sure what to do, and I am having issues communicating my problems. I might come back to this later."
   ]
  },
  {
   "cell_type": "markdown",
   "id": "4dba1c94",
   "metadata": {},
   "source": [
    "I waited a little, yet stil was having trouble with this problem. I am going to leave it as is for now, but check on my classmates work and see what they were able to get. "
   ]
  },
  {
   "cell_type": "markdown",
   "id": "4478aec3",
   "metadata": {},
   "source": [
    "\"Design a program that generates a seven-digit lottery number. The program should generate seven random numbers, each in the range of 0 through 9, and assign each number to a list element. Then write another loop that displays the contents of the list.\""
   ]
  },
  {
   "cell_type": "code",
   "execution_count": 15,
   "id": "1e827d8e",
   "metadata": {},
   "outputs": [
    {
     "ename": "IndentationError",
     "evalue": "unexpected indent (3482435104.py, line 2)",
     "output_type": "error",
     "traceback": [
      "\u001b[1;36m  Cell \u001b[1;32mIn[15], line 2\u001b[1;36m\u001b[0m\n\u001b[1;33m    def generate_lottery_number():\u001b[0m\n\u001b[1;37m    ^\u001b[0m\n\u001b[1;31mIndentationError\u001b[0m\u001b[1;31m:\u001b[0m unexpected indent\n"
     ]
    }
   ],
   "source": [
    "import random\n",
    "    def generate_lottery_number():\n",
    "        lottery_number = []\n",
    "        \n",
    "        for _ in range(7):\n",
    "            \n",
    "        return lottery_number\n",
    "    \n",
    "    def display_lottery_number(lottery_number):\n",
    "        \n",
    "        print(\"Lottery Number:\")\n",
    "        for digit in lottery_number:\n",
    "            print(digit, end=\" \")\n",
    "        print()\n",
    "        \n",
    "def main():\n",
    "    lottery_number = generate_lottery_number()\n",
    "    \n",
    "    display_lottery_number(lottery_number)\n",
    "    \n",
    "if __name__ == \"__main__\":\n",
    "    main()"
   ]
  },
  {
   "cell_type": "code",
   "execution_count": 19,
   "id": "e4fa4779",
   "metadata": {},
   "outputs": [
    {
     "ename": "IndentationError",
     "evalue": "expected an indented block after 'for' statement on line 5 (4168653473.py, line 7)",
     "output_type": "error",
     "traceback": [
      "\u001b[1;36m  Cell \u001b[1;32mIn[19], line 7\u001b[1;36m\u001b[0m\n\u001b[1;33m    return lottery_number\u001b[0m\n\u001b[1;37m    ^\u001b[0m\n\u001b[1;31mIndentationError\u001b[0m\u001b[1;31m:\u001b[0m expected an indented block after 'for' statement on line 5\n"
     ]
    }
   ],
   "source": [
    "import random\n",
    "def generate_lottery_number():\n",
    "        lottery_number = []\n",
    "        \n",
    "        for _ in range(7):\n",
    "            \n",
    "        return lottery_number\n",
    "    \n",
    "def display_lottery_number(lottery_number):\n",
    "        \n",
    "        print(\"Lottery Number:\")\n",
    "        for digit in lottery_number:\n",
    "            print(digit, end=\" \")\n",
    "        print()\n",
    "        \n",
    "def main():\n",
    "    lottery_number = generate_lottery_number()\n",
    "    \n",
    "    display_lottery_number(lottery_number)\n",
    "    \n",
    "if __name__ == \"__main__\":\n",
    "    main()"
   ]
  },
  {
   "cell_type": "code",
   "execution_count": 20,
   "id": "4a7d9399",
   "metadata": {
    "scrolled": true
   },
   "outputs": [
    {
     "name": "stdout",
     "output_type": "stream",
     "text": [
      "Lottery Number:\n",
      "4 2 1 2 6 6 9 \n"
     ]
    }
   ],
   "source": [
    "import random\n",
    "\n",
    "def generate_lottery_number():\n",
    "    \n",
    "    lottery_number = []\n",
    "\n",
    "  \n",
    "    for _ in range(7):\n",
    "        lottery_number.append(random.randint(0, 9))\n",
    "\n",
    "    return lottery_number\n",
    "\n",
    "def display_lottery_number(lottery_number):\n",
    "\n",
    "    print(\"Lottery Number:\")\n",
    "    for digit in lottery_number:\n",
    "        print(digit, end=\" \")\n",
    "    print() \n",
    "\n",
    "def main():\n",
    "    \n",
    "    lottery_number = generate_lottery_number()\n",
    "\n",
    "    \n",
    "    display_lottery_number(lottery_number)\n",
    "\n",
    "if __name__ == \"__main__\":\n",
    "    main()\n"
   ]
  },
  {
   "cell_type": "markdown",
   "id": "2b26ed08",
   "metadata": {},
   "source": [
    "had small errors working out this code, was able to work it out though. Had more luck on this problem. "
   ]
  },
  {
   "cell_type": "markdown",
   "id": "e299b911",
   "metadata": {},
   "source": [
    "\"Design a program that lets the user enter the total rainfall for each of 12 months into a list. The program should calculate and display the total rainfall for the year, the average monthly rainfall, the months with the highest and lowest amounts.\""
   ]
  },
  {
   "cell_type": "markdown",
   "id": "e858ea28",
   "metadata": {},
   "source": [
    "I am assuming this code will run fairly long."
   ]
  },
  {
   "cell_type": "code",
   "execution_count": null,
   "id": "cf6adbf9",
   "metadata": {},
   "outputs": [],
   "source": [
    "def get_monthly_rainfall():\n",
    "   \n",
    "    rainfall = []\n",
    "\n",
    "    \n",
    "    for month in range(1, 13):\n",
    "        while True:\n",
    "            try:\n",
    "               \n",
    "                rain = float(input(f\"Enter rainfall for month {month}: \"))\n",
    "               \n",
    "                if rain < 0:\n",
    "                    raise ValueError(\"Rainfall should be non-negative.\")\n",
    "               \n",
    "                break  \n",
    "            except ValueError as ve:\n",
    "                print(ve)  \n"
   ]
  },
  {
   "cell_type": "markdown",
   "id": "cace837b",
   "metadata": {},
   "source": [
    "At this point, I feel like I am doing good. I have had to look at our textbook quite a bit, but I feel like this first chunk of code is correct."
   ]
  },
  {
   "cell_type": "code",
   "execution_count": null,
   "id": "d86199a1",
   "metadata": {},
   "outputs": [],
   "source": [
    "def get_monthly_rainfall():\n",
    "   \n",
    "    rainfall = []\n",
    "\n",
    "    \n",
    "    for month in range(1, 13):\n",
    "        while True:\n",
    "            try:\n",
    "               \n",
    "                rain = float(input(f\"Enter rainfall for month {month}: \"))\n",
    "               \n",
    "                if rain < 0:\n",
    "                    raise ValueError(\"Rainfall should be non-negative.\")\n",
    "               \n",
    "                break  \n",
    "            except ValueError as ve:\n",
    "                print(ve)  \n",
    "\n",
    "    return rainfall\n",
    "\n",
    "def calculate_total(rainfall):\n",
    "    \n",
    "    total_rainfall = sum(rainfall)\n",
    "    return total_rainfall\n",
    "\n",
    "def calculate_average(rainfall):\n",
    "    \n",
    "    average_rainfall = sum(rainfall) / len(rainfall)\n",
    "    return average_rainfall\n",
    "\n",
    "def find_extremes(rainfall):\n",
    "   \n",
    "    max_month = rainfall.index(max(rainfall)) + 1\n",
    "    \n",
    "    min_month = rainfall.index(min(rainfall)) + 1\n",
    "    return max_month, min_month\n",
    "\n",
    "def main():\n",
    "   \n",
    "    rainfall = get_monthly_rainfall()\n",
    "\n",
    "    \n",
    "    total_rainfall = calculate_total(rainfall)\n",
    "\n",
    "    \n",
    "    average_rainfall = calculate_average(rainfall)\n",
    "\n",
    "   \n",
    "    max_month, min_month = find_extremes(rainfall)\n"
   ]
  },
  {
   "cell_type": "markdown",
   "id": "ca17e5f5",
   "metadata": {},
   "source": [
    "I wanted to check with ChatGPT to see if I was on the right path, and I ended up forgetting to add \"+1\" at the ends of part of the code. However, everything else seemed to be correct!"
   ]
  },
  {
   "cell_type": "code",
   "execution_count": 22,
   "id": "15a44465",
   "metadata": {},
   "outputs": [
    {
     "ename": "IndentationError",
     "evalue": "unindent does not match any outer indentation level (<tokenize>, line 51)",
     "output_type": "error",
     "traceback": [
      "\u001b[1;36m  File \u001b[1;32m<tokenize>:51\u001b[1;36m\u001b[0m\n\u001b[1;33m    print(f\"\\nTotal rainfall for the year: {total_rainfall:.2f} inches\")\u001b[0m\n\u001b[1;37m    ^\u001b[0m\n\u001b[1;31mIndentationError\u001b[0m\u001b[1;31m:\u001b[0m unindent does not match any outer indentation level\n"
     ]
    }
   ],
   "source": [
    "def get_monthly_rainfall():\n",
    "   \n",
    "    rainfall = []\n",
    "\n",
    "    \n",
    "    for month in range(1, 13):\n",
    "        while True:\n",
    "            try:\n",
    "               \n",
    "                rain = float(input(f\"Enter rainfall for month {month}: \"))\n",
    "               \n",
    "                if rain < 0:\n",
    "                    raise ValueError(\"Rainfall should be non-negative.\")\n",
    "               \n",
    "                break  \n",
    "            except ValueError as ve:\n",
    "                print(ve)  \n",
    "\n",
    "    return rainfall\n",
    "\n",
    "def calculate_total(rainfall):\n",
    "    \n",
    "    total_rainfall = sum(rainfall)\n",
    "    return total_rainfall\n",
    "\n",
    "def calculate_average(rainfall):\n",
    "    \n",
    "    average_rainfall = sum(rainfall) / len(rainfall)\n",
    "    return average_rainfall\n",
    "\n",
    "def find_extremes(rainfall):\n",
    "   \n",
    "    max_month = rainfall.index(max(rainfall)) + 1\n",
    "    \n",
    "    min_month = rainfall.index(min(rainfall)) + 1\n",
    "    return max_month, min_month\n",
    "\n",
    "def main():\n",
    "   \n",
    "    rainfall = get_monthly_rainfall()\n",
    "\n",
    "    \n",
    "    total_rainfall = calculate_total(rainfall)\n",
    "\n",
    "    \n",
    "    average_rainfall = calculate_average(rainfall)\n",
    "\n",
    "   \n",
    "    max_month, min_month = find_extremes(rainfall)\n",
    "\n",
    " print(f\"\\nTotal rainfall for the year: {total_rainfall:.2f} inches\")\n",
    "    print(f\"Average monthly rainfall: {average_rainfall:.2f} inches\")\n",
    "    print(f\"Month(s) with the highest rainfall: Month {max_month}\")\n",
    "    print(f\"Month(s) with the lowest rainfall: Month {min_month}\")\n",
    "    \n",
    " if __name__ == \"__main__\":\n",
    "    main()   "
   ]
  },
  {
   "cell_type": "code",
   "execution_count": 23,
   "id": "56a2bc66",
   "metadata": {},
   "outputs": [
    {
     "name": "stdout",
     "output_type": "stream",
     "text": [
      "Enter rainfall for month 1: 300\n",
      "Enter rainfall for month 2: 30\n",
      "Enter rainfall for month 3: 670\n",
      "Enter rainfall for month 4: 23\n",
      "Enter rainfall for month 5: 50\n",
      "Enter rainfall for month 6: 45\n",
      "Enter rainfall for month 7: 340\n",
      "Enter rainfall for month 8: 700\n",
      "Enter rainfall for month 9: 23\n",
      "Enter rainfall for month 10: 40\n",
      "Enter rainfall for month 11: 12\n",
      "Enter rainfall for month 12: 230\n",
      "\n",
      "Total rainfall for the year: 2463.00 inches\n",
      "Average monthly rainfall: 205.25 inches\n",
      "Month(s) with the highest rainfall: Month 8\n",
      "Month(s) with the lowest rainfall: Month 11\n"
     ]
    }
   ],
   "source": [
    "def get_monthly_rainfall():\n",
    "   \n",
    "    rainfall = []\n",
    "\n",
    "   \n",
    "    for month in range(1, 13):\n",
    "        while True:\n",
    "            try:\n",
    "                \n",
    "                rain = float(input(f\"Enter rainfall for month {month}: \"))\n",
    "               \n",
    "                if rain < 0:\n",
    "                    raise ValueError(\"Rainfall should be non-negative.\")\n",
    "                \n",
    "                rainfall.append(rain)\n",
    "                break  \n",
    "            except ValueError as ve:\n",
    "                print(ve)  \n",
    "\n",
    "    return rainfall\n",
    "\n",
    "def calculate_total(rainfall):\n",
    "    \n",
    "    total_rainfall = sum(rainfall)\n",
    "    return total_rainfall\n",
    "\n",
    "def calculate_average(rainfall):\n",
    "    \n",
    "    average_rainfall = sum(rainfall) / len(rainfall)\n",
    "    return average_rainfall\n",
    "\n",
    "def find_extremes(rainfall):\n",
    "   \n",
    "    max_month = rainfall.index(max(rainfall)) + 1\n",
    "   \n",
    "    min_month = rainfall.index(min(rainfall)) + 1\n",
    "    return max_month, min_month\n",
    "\n",
    "def main():\n",
    "    \n",
    "    rainfall = get_monthly_rainfall()\n",
    "\n",
    "    \n",
    "    total_rainfall = calculate_total(rainfall)\n",
    "\n",
    "    \n",
    "    average_rainfall = calculate_average(rainfall)\n",
    "\n",
    "   \n",
    "    max_month, min_month = find_extremes(rainfall)\n",
    "\n",
    "    \n",
    "    print(f\"\\nTotal rainfall for the year: {total_rainfall:.2f} inches\")\n",
    "    print(f\"Average monthly rainfall: {average_rainfall:.2f} inches\")\n",
    "    print(f\"Month(s) with the highest rainfall: Month {max_month}\")\n",
    "    print(f\"Month(s) with the lowest rainfall: Month {min_month}\")\n",
    "\n",
    "if __name__ == \"__main__\":\n",
    "    main()\n"
   ]
  },
  {
   "cell_type": "markdown",
   "id": "ce987db1",
   "metadata": {},
   "source": []
  }
 ],
 "metadata": {
  "kernelspec": {
   "display_name": "Python 3 (ipykernel)",
   "language": "python",
   "name": "python3"
  },
  "language_info": {
   "codemirror_mode": {
    "name": "ipython",
    "version": 3
   },
   "file_extension": ".py",
   "mimetype": "text/x-python",
   "name": "python",
   "nbconvert_exporter": "python",
   "pygments_lexer": "ipython3",
   "version": "3.11.5"
  }
 },
 "nbformat": 4,
 "nbformat_minor": 5
}
